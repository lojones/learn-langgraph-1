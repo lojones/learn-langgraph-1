{
 "cells": [
  {
   "cell_type": "code",
   "execution_count": null,
   "metadata": {},
   "outputs": [],
   "source": [
    "%pip install langchain_openai langchain_core langgraph"
   ]
  },
  {
   "cell_type": "code",
   "execution_count": 5,
   "metadata": {},
   "outputs": [
    {
     "name": "stdout",
     "output_type": "stream",
     "text": [
      "==================================\u001b[1m Ai Message \u001b[0m==================================\n",
      "Name: Model\n",
      "\n",
      "so you want to know why donald trump won the 2024 election?\n",
      "================================\u001b[1m Human Message \u001b[0m=================================\n",
      "Name: Lance\n",
      "\n",
      "yes, that's correct\n",
      "==================================\u001b[1m Ai Message \u001b[0m==================================\n",
      "Name: Model\n",
      "\n",
      "great, are you looking for reasons from any particular perspective?\n",
      "================================\u001b[1m Human Message \u001b[0m=================================\n",
      "Name: Lance\n",
      "\n",
      "from the perspective of a long time democratic operative\n"
     ]
    }
   ],
   "source": [
    "from pprint import pprint\n",
    "from langchain_core.messages import AIMessage, HumanMessage\n",
    "\n",
    "messages = []\n",
    "messages.append(AIMessage(\"so you want to know why donald trump won the 2024 election?\", name=\"Model\"))\n",
    "messages.append(HumanMessage(\"yes, that's correct\", name=\"Lance\"))\n",
    "messages.append(AIMessage(\"great, are you looking for reasons from any particular perspective?\", name=\"Model\"))\n",
    "messages.append(HumanMessage(\"from the perspective of a long time democratic operative\", name=\"Lance\"))\n",
    "\n",
    "for m in messages:\n",
    "    m.pretty_print()\n",
    "    \n"
   ]
  },
  {
   "cell_type": "code",
   "execution_count": 2,
   "metadata": {},
   "outputs": [],
   "source": [
    "import os, getpass\n",
    "\n",
    "def setenv(var:str):\n",
    "    if not os.environ.get(var):\n",
    "        os.environ[var] = getpass.getpass(f\"{var}: \")\n",
    "\n",
    "setenv(\"OPENAI_API_KEY\")"
   ]
  },
  {
   "cell_type": "code",
   "execution_count": 6,
   "metadata": {},
   "outputs": [],
   "source": [
    "from langchain_openai import ChatOpenAI\n",
    "llm = ChatOpenAI(model=\"gpt-4o\")\n",
    "result = llm.invoke(messages)\n",
    "\n",
    "\n"
   ]
  },
  {
   "cell_type": "code",
   "execution_count": 8,
   "metadata": {},
   "outputs": [
    {
     "name": "stdout",
     "output_type": "stream",
     "text": [
      "==================================\u001b[1m Ai Message \u001b[0m==================================\n",
      "\n",
      "As a long-time Democratic operative, analyzing why Donald Trump won the 2024 election would involve examining several key factors that may have contributed to his victory:\n",
      "\n",
      "1. **Economic Factors**: If the economy was perceived as strong or improving under Republican leadership, voters might have felt more secure sticking with Trump, especially if they credited him with economic successes.\n",
      "\n",
      "2. **Voter Turnout**: Understanding the turnout dynamics is crucial. If Democratic turnout was lower than expected, it could have been due to a lack of enthusiasm for the Democratic candidate, or effective voter suppression tactics in key states.\n",
      "\n",
      "3. **Messaging and Campaign Strategy**: Trump’s campaign might have effectively tailored its message to resonate with swing voters or key demographic groups. This could include focusing on issues where Democrats were seen as weak or capitalizing on any missteps by the Democratic candidate.\n",
      "\n",
      "4. **Media Influence and Misinformation**: The role of media, including social media, in shaping public perception cannot be underestimated. If Trump's campaign managed to dominate the media narrative or effectively utilized misinformation, it could have swayed undecided voters.\n",
      "\n",
      "5. **Policy Positions**: If Trump's policy positions on certain issues (e.g., immigration, taxation, healthcare) aligned more closely with the preferences of pivotal voter blocs, it might have given him an edge.\n",
      "\n",
      "6. **Incumbency Advantage**: If Trump was the incumbent, the advantages of incumbency, such as established name recognition and a track record to campaign on, could have played a significant role.\n",
      "\n",
      "7. **Democratic Party Challenges**: Internal challenges within the Democratic Party, such as divisions between progressive and moderate factions, could have weakened the overall campaign strategy and message cohesion.\n",
      "\n",
      "8. **External Factors**: Events such as international conflicts, natural disasters, or public health crises, and the administration’s handling of them, could significantly influence voter sentiment.\n",
      "\n",
      "9. **Cultural and Social Issues**: Issues related to social and cultural identity can mobilize voters. If Trump's positions resonated more with voters' cultural or social identities, this might have contributed to his victory.\n",
      "\n",
      "Analyzing these factors would involve a deep dive into data from the election, including exit polls, demographic shifts, and state-by-state results, to understand the nuances of why voters chose Trump over the Democratic candidate.\n"
     ]
    }
   ],
   "source": [
    "result.pretty_print()"
   ]
  },
  {
   "cell_type": "code",
   "execution_count": 27,
   "metadata": {},
   "outputs": [],
   "source": [
    "def multiply(a: int, b: int):\n",
    "    \"\"\"Multiply a and b.\n",
    "\n",
    "    Args:\n",
    "        a : The first number.\n",
    "        b : The second number.\n",
    "    \"\"\"\n",
    "    return a * b\n",
    "\n",
    "def get_background_info(topic: str):\n",
    "    \"\"\"Get background information on any topic related to the 2024 election.\n",
    "\n",
    "    Args:\n",
    "        topic: The topic to get background information on.\n",
    "    \"\"\"\n",
    "    return f\"\"\"Here is some background information on {topic}.  \n",
    "    The 2024 U.S. presidential election campaign between Vice President Kamala Harris and former President Donald Trump was a closely watched and highly contentious race. Here's a summary of key events and developments from November 2023 to the election outcome:\n",
    "Campaign Dynamics\n",
    "Harris entered the race in July 2024 after President Biden withdrew his candidacy11. She quickly gained momentum, posing a significant challenge to Trump's lead in national and swing state polls. Harris selected Minnesota Governor Tim Walz as her running mate, while Trump chose Ohio Senator JD Vance4.\n",
    "Policy Platforms\n",
    "Both candidates presented distinct visions for the country:\n",
    "Harris' Platform:\n",
    "Continued many of Biden's policies, including tax credits for middle-class families and lowering drug costs5\n",
    "Proposed an \"opportunity economy\" focused on strengthening the middle class5\n",
    "Supported national abortion protections, LGBT+ rights, and climate change legislation9\n",
    "Advocated for a \"populist\" economic agenda, including bans on price gouging and expanding child tax credits9\n",
    "Trump's Platform:\n",
    "Campaigned on expanding executive authority and implementing \"America First\" policies2\n",
    "Promised mass deportations and strict immigration policies6\n",
    "Proposed tax cuts and economic measures aimed at his base2\n",
    "Emphasized \"retribution\" against political opponents as a central theme2\n",
    "Key Campaign Issues\n",
    "Economy: Both candidates focused on economic policies, with Harris proposing measures to address rising costs and Trump emphasizing tax cuts52.\n",
    "Immigration: Trump promised strict policies and mass deportations, while Harris supported increasing Border Patrol agents and reforming the system69.\n",
    "Abortion: This remained a contentious issue, with Harris supporting national protections and Trump avoiding commitments to a federal ban4.\n",
    "Foreign Policy: Harris supported continued aid to Ukraine and Israel but called for a ceasefire in Gaza, while Trump promoted an isolationist approach92.\n",
    "Executive Power: Trump's campaign emphasized expanding presidential authority, which became a point of criticism from Harris2.\n",
    "Debates and Public Appearances\n",
    "A presidential debate between Harris and Trump was held on September 10, 2024, broadcast on ABC9. The vice presidential candidates, Walz and Vance, debated on October 1, 2024, on CBS9.\n",
    "Election Outcome\n",
    "On November 5, 2024, Donald Trump was declared the winner of the presidential election, securing a second term8. Vice President Harris conceded defeat and pledged to assist with a peaceful transfer of power8.\n",
    "Post-Election\n",
    "Following Trump's victory, there were calls from Senate Democrats for bipartisanship, while Republicans prepared to implement their agenda8. The election results sparked discussions about the future direction of both parties and the implications for American politics and policy.\n",
    "This election was notable for its high stakes, the stark policy contrasts between candidates, and its potential to shape the future of American democracy and governance.\n",
    "    \"\"\"\n",
    "\n",
    "llm_with_tools = llm.bind_tools([multiply, get_background_info])"
   ]
  },
  {
   "cell_type": "code",
   "execution_count": 28,
   "metadata": {},
   "outputs": [],
   "source": [
    "tool_call = llm_with_tools.invoke(messages)"
   ]
  },
  {
   "cell_type": "code",
   "execution_count": 29,
   "metadata": {},
   "outputs": [
    {
     "name": "stdout",
     "output_type": "stream",
     "text": [
      "==================================\u001b[1m Ai Message \u001b[0m==================================\n",
      "Tool Calls:\n",
      "  get_background_info (call_iZiGsUWKAgI10Mb1gzSpLgh2)\n",
      " Call ID: call_iZiGsUWKAgI10Mb1gzSpLgh2\n",
      "  Args:\n",
      "    topic: Donald Trump 2024 election victory analysis from a Democratic perspective\n"
     ]
    }
   ],
   "source": [
    "tool_call.pretty_print()\n"
   ]
  },
  {
   "cell_type": "code",
   "execution_count": 30,
   "metadata": {},
   "outputs": [
    {
     "data": {
      "text/plain": [
       "[AIMessage(content='so you want to know why donald trump won the 2024 election?', additional_kwargs={}, response_metadata={}, name='Model', id='a91a2641-b47a-4982-a305-67b63b7f7ba2'),\n",
       " HumanMessage(content=\"yes, that's correct\", additional_kwargs={}, response_metadata={}, name='Lance', id='f2a84f15-3225-406a-bccb-8a0d8479b4f7'),\n",
       " AIMessage(content='great, are you looking for reasons from any particular perspective?', additional_kwargs={}, response_metadata={}, name='Model', id='116457a6-a10d-47b7-84d5-60df17054e48'),\n",
       " HumanMessage(content='from the perspective of a long time democratic operative', additional_kwargs={}, response_metadata={}, name='Lance', id='fbe1292c-ec2d-4f16-82c2-1d4fe328a579'),\n",
       " HumanMessage(content='get more info about trump and the election and then answer my question', additional_kwargs={}, response_metadata={}, name='Lance', id='9b43f7f8-43d7-4d3e-a314-2f05edb49ab1'),\n",
       " HumanMessage(content='get more info about trump and the election and then answer my question', additional_kwargs={}, response_metadata={}, name='Lance', id='f2baad63-7323-4492-98cc-9ebe6f4e25f9')]"
      ]
     },
     "execution_count": 30,
     "metadata": {},
     "output_type": "execute_result"
    }
   ],
   "source": [
    "from typing_extensions import TypedDict\n",
    "from typing import Annotated\n",
    "from langchain_core.messages import AnyMessage\n",
    "from langgraph.graph import add_messages\n",
    "from langgraph.graph import MessagesState\n",
    " \n",
    "new_message = HumanMessage(content=\"get more info about trump and the election and then answer my question\", name=\"Lance\")\n",
    "\n",
    "messages=add_messages(messages,new_message)\n",
    "\n",
    "messages\n",
    "\n",
    "# pprint(messages)\n"
   ]
  },
  {
   "cell_type": "code",
   "execution_count": 31,
   "metadata": {},
   "outputs": [
    {
     "data": {
      "image/jpeg": "[encoded data removed]",
      "text/plain": [
       "<IPython.core.display.Image object>"
      ]
     },
     "metadata": {},
     "output_type": "display_data"
    }
   ],
   "source": [
    "from langgraph.graph import StateGraph, START, END\n",
    "from IPython.display import Image, display\n",
    "\n",
    "def tool_calling_llm(state: MessagesState):\n",
    "    return {\"messages\": [llm_with_tools.invoke(state[\"messages\"])]}\n",
    "\n",
    "builder = StateGraph(MessagesState)\n",
    "builder.add_node(\"tool_calling_llm\", tool_calling_llm)\n",
    "builder.add_edge(START, \"tool_calling_llm\")\n",
    "builder.add_edge(\"tool_calling_llm\", END)\n",
    "graph = builder.compile()\n",
    "\n",
    "display(Image(graph.get_graph().draw_mermaid_png()))"
   ]
  },
  {
   "cell_type": "code",
   "execution_count": 33,
   "metadata": {},
   "outputs": [
    {
     "name": "stdout",
     "output_type": "stream",
     "text": [
      "================================\u001b[1m Human Message \u001b[0m=================================\n",
      "\n",
      "i have a piece of land thats 150 meters long by 223 meters wide, whats the area?\n",
      "==================================\u001b[1m Ai Message \u001b[0m==================================\n",
      "Tool Calls:\n",
      "  multiply (call_CuPCd68RHwM8QA8Uof7jFYBP)\n",
      " Call ID: call_CuPCd68RHwM8QA8Uof7jFYBP\n",
      "  Args:\n",
      "    a: 150\n",
      "    b: 223\n"
     ]
    }
   ],
   "source": [
    "resp = graph.invoke({\"messages\": HumanMessage(content=\"i have a piece of land thats 150 meters long by 223 meters wide, whats the area?\")})\n",
    "\n",
    "for m in resp[\"messages\"]:\n",
    "    m.pretty_print()\n",
    "\n"
   ]
  },
  {
   "cell_type": "code",
   "execution_count": 34,
   "metadata": {},
   "outputs": [
    {
     "data": {
      "text/plain": [
       "RunnableBinding(bound=ChatOpenAI(client=<openai.resources.chat.completions.Completions object at 0x000001E70DBCA810>, async_client=<openai.resources.chat.completions.AsyncCompletions object at 0x000001E70DC5F190>, root_client=<openai.OpenAI object at 0x000001E70CB8ABD0>, root_async_client=<openai.AsyncOpenAI object at 0x000001E70DA84990>, model_name='gpt-4o', model_kwargs={}, openai_api_key=SecretStr('**********')), kwargs={'tools': [{'type': 'function', 'function': {'name': 'multiply', 'description': 'Multiply a and b.', 'parameters': {'properties': {'a': {'description': 'The first number.', 'type': 'integer'}, 'b': {'description': 'The second number.', 'type': 'integer'}}, 'required': ['a', 'b'], 'type': 'object'}}}, {'type': 'function', 'function': {'name': 'get_background_info', 'description': 'Get background information on any topic related to the 2024 election.', 'parameters': {'properties': {'topic': {'description': 'The topic to get background information on.', 'type': 'string'}}, 'required': ['topic'], 'type': 'object'}}}]}, config={}, config_factories=[])"
      ]
     },
     "execution_count": 34,
     "metadata": {},
     "output_type": "execute_result"
    }
   ],
   "source": [
    "llm_with_tools"
   ]
  },
  {
   "cell_type": "code",
   "execution_count": 35,
   "metadata": {},
   "outputs": [],
   "source": [
    "from langgraph.graph import MessagesState\n",
    "from langchain_core.messages import AIMessage, HumanMessage, SystemMessage\n",
    "\n",
    "sysmsg=SystemMessage(content=\"You are a helpful assistant that uses provided tools to answer user questions\")\n",
    "\n",
    "def assistant(state: MessagesState):\n",
    "    return {\"messages\": [llm_with_tools.invoke([sysmsg] + state[\"messages\"])]}"
   ]
  },
  {
   "cell_type": "code",
   "execution_count": 36,
   "metadata": {},
   "outputs": [
    {
     "data": {
      "image/jpeg": "[encoded data removed]",
      "text/plain": [
       "<IPython.core.display.Image object>"
      ]
     },
     "metadata": {},
     "output_type": "display_data"
    }
   ],
   "source": [
    "from langgraph.prebuilt import tools_condition, ToolNode\n",
    "\n",
    "tools = [multiply, get_background_info]\n",
    "\n",
    "builder2 = StateGraph(MessagesState)\n",
    "builder2.add_node(\"assistant\", assistant)\n",
    "builder2.add_node(\"tools\", ToolNode(tools))\n",
    "builder2.add_edge(START, \"assistant\")   \n",
    "builder2.add_conditional_edges(\"assistant\", tools_condition)\n",
    "builder2.add_edge(\"tools\", \"assistant\")\n",
    "\n",
    "react_graph = builder2.compile()\n",
    "\n",
    "display(Image(react_graph.get_graph(xray=True).draw_mermaid_png()))\n"
   ]
  },
  {
   "cell_type": "code",
   "execution_count": 38,
   "metadata": {},
   "outputs": [
    {
     "name": "stdout",
     "output_type": "stream",
     "text": [
      "HumanMessage(content='my land is 23m wide by 59m long, whats the area?', additional_kwargs={}, response_metadata={}, id='2cde0c38-2353-41e5-801d-dcdee642c52f')\n",
      "AIMessage(content='', additional_kwargs={'tool_calls': [{'id': 'call_WoqNpAXWG4EalVkRCfuMBC11', 'function': {'arguments': '{\"a\":23,\"b\":59}', 'name': 'multiply'}, 'type': 'function'}], 'refusal': None}, response_metadata={'token_usage': {'completion_tokens': 17, 'prompt_tokens': 123, 'total_tokens': 140, 'completion_tokens_details': {'accepted_prediction_tokens': 0, 'audio_tokens': 0, 'reasoning_tokens': 0, 'rejected_prediction_tokens': 0}, 'prompt_tokens_details': {'audio_tokens': 0, 'cached_tokens': 0}}, 'model_name': 'gpt-4o-2024-08-06', 'system_fingerprint': 'fp_45cf54deae', 'finish_reason': 'tool_calls', 'logprobs': None}, id='run-c261e0dd-3de2-42e3-a9af-4f45df3d9665-0', tool_calls=[{'name': 'multiply', 'args': {'a': 23, 'b': 59}, 'id': 'call_WoqNpAXWG4EalVkRCfuMBC11', 'type': 'tool_call'}], usage_metadata={'input_tokens': 123, 'output_tokens': 17, 'total_tokens': 140, 'input_token_details': {'audio': 0, 'cache_read': 0}, 'output_token_details': {'audio': 0, 'reasoning': 0}})\n",
      "ToolMessage(content='1357', name='multiply', id='3fce5fc5-9256-4f62-bd1b-db64800e1728', tool_call_id='call_WoqNpAXWG4EalVkRCfuMBC11')\n",
      "AIMessage(content='The area of your land, which is 23 meters wide by 59 meters long, is 1,357 square meters.', additional_kwargs={'refusal': None}, response_metadata={'token_usage': {'completion_tokens': 27, 'prompt_tokens': 149, 'total_tokens': 176, 'completion_tokens_details': {'accepted_prediction_tokens': 0, 'audio_tokens': 0, 'reasoning_tokens': 0, 'rejected_prediction_tokens': 0}, 'prompt_tokens_details': {'audio_tokens': 0, 'cached_tokens': 0}}, 'model_name': 'gpt-4o-2024-08-06', 'system_fingerprint': 'fp_45cf54deae', 'finish_reason': 'stop', 'logprobs': None}, id='run-d179959f-3207-4cd7-b11b-1e8785cd9b9c-0', usage_metadata={'input_tokens': 149, 'output_tokens': 27, 'total_tokens': 176, 'input_token_details': {'audio': 0, 'cache_read': 0}, 'output_token_details': {'audio': 0, 'reasoning': 0}})\n"
     ]
    }
   ],
   "source": [
    "for m in react_graph.invoke({\"messages\": [HumanMessage(content=\"my land is 23m wide by 59m long, whats the area?\")]})['messages']:\n",
    "    pprint(m)"
   ]
  },
  {
   "cell_type": "code",
   "execution_count": null,
   "metadata": {},
   "outputs": [],
   "source": [
    "for m in react_graph.invoke({\"messages\": [HumanMessage(content=\"why did trump with the 2024 election?\")]})['messages']:\n",
    "    pprint(m)"
   ]
  }
 ],
 "metadata": {
  "kernelspec": {
   "display_name": "Python 3",
   "language": "python",
   "name": "python3"
  },
  "language_info": {
   "codemirror_mode": {
    "name": "ipython",
    "version": 3
   },
   "file_extension": ".py",
   "mimetype": "text/x-python",
   "name": "python",
   "nbconvert_exporter": "python",
   "pygments_lexer": "ipython3",
   "version": "3.11.3"
  }
 },
 "nbformat": 4,
 "nbformat_minor": 2
}
